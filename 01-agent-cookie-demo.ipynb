{
 "cells": [
  {
   "cell_type": "code",
   "execution_count": 0,
   "metadata": {
    "application/vnd.databricks.v1+cell": {
     "cellMetadata": {
      "byteLimit": 2048000,
      "rowLimit": 10000
     },
     "inputWidgets": {},
     "nuid": "945debc2-8237-47b0-8312-3baa16c1044c",
     "showTitle": false,
     "tableResultSettingsMap": {},
     "title": ""
    }
   },
   "outputs": [],
   "source": [
    "%pip install -U databricks-sdk==0.41.0 langchain-community==0.2.16 langchain-openai==0.1.19 mlflow==2.20.2\n",
    "dbutils.library.restartPython()"
   ]
  },
  {
   "cell_type": "markdown",
   "metadata": {
    "application/vnd.databricks.v1+cell": {
     "cellMetadata": {
      "byteLimit": 2048000,
      "rowLimit": 10000
     },
     "inputWidgets": {},
     "isMarkdownSandbox": true,
     "nuid": "01b6ddb9-f8b3-46ac-990b-0d9280ad85ed",
     "showTitle": false,
     "tableResultSettingsMap": {},
     "title": ""
    }
   },
   "source": [
    "\n",
    "## Compound AI system for your Instagram web campaign marketing for our Cookie Franchise!\n",
    "\n",
    "<a href=\"https://youtu.be/UfbyzK488Hk?si=qzMgcSjcBhXOnDBz&t=3496\" target=\"_blank\"><img style=\"float:right; padding: 20px\" width=\"500px\" src=\"https://github.com/databricks-demos/dbdemos-resources/blob/main/images/product/llm-tools-functions/llm-tools-cookie-video.png?raw=true\" ></a>\n",
    "\n",
    "In this notebook, we're going to see how to create a compound AI system to analyze your data and make recommendation on what to publish in your Instagram web campaign, based on your own customer reviews!\n",
    "\n",
    "we will:\n",
    "- Create simple SQL functions to analyze your data and registering them in UC\n",
    "- Creating more advanced python functions in UC\n",
    "- Use Langchain to bind these functions as tools \n",
    "- Create an Agent that can execute these tools and ask it some tough questions\n",
    "\n",
    "\n",
    "### AI with general intelligence isn't enough!\n",
    "\n",
    "LLMs are very powerful, but they don't know your business. If we ask an LLM to write a post for our cookies, it'll generate a very general message.\n",
    "\n",
    "AI needs be customized to your own business with your own data to be relevant!\n",
    "\n",
    "Let's give it a try and ask a general AI to generate an instagram post for our cookie franchise:\n",
    "\n",
    "<!-- Collect usage data (view). Remove it to disable collection or disable tracker during installation. View README for more details.  -->\n",
    "<img width=\"1px\" src=\"https://ppxrzfxige.execute-api.us-west-2.amazonaws.com/v1/analytics?category=data-science&org_id=1444828305810485&notebook=%2F01-agent-cookie-demo&demo_name=llm-tools-functions&event=VIEW&path=%2F_dbdemos%2Fdata-science%2Fllm-tools-functions%2F01-agent-cookie-demo&version=1&user_hash=032e6e2b1e1657acd615f0e41ec6018001a06a0376d5aa7a9cab91bc229e1e1d\">"
   ]
  },
  {
   "cell_type": "code",
   "execution_count": 0,
   "metadata": {
    "application/vnd.databricks.v1+cell": {
     "cellMetadata": {
      "byteLimit": 2048000,
      "implicitDf": true,
      "rowLimit": 10000
     },
     "inputWidgets": {},
     "nuid": "84f7e797-f9f3-4307-9110-8b140a3e0219",
     "showTitle": false,
     "tableResultSettingsMap": {},
     "title": ""
    }
   },
   "outputs": [],
   "source": [
    "%sql\n",
    "-- A not inspiring, general-purpose message :/ \n",
    "select ai_gen('Help me write an instagram message for the customers of my Seattle store, we want to increase our sales for the top 1 cookie only.')"
   ]
  },
  {
   "cell_type": "markdown",
   "metadata": {
    "application/vnd.databricks.v1+cell": {
     "cellMetadata": {
      "byteLimit": 2048000,
      "rowLimit": 10000
     },
     "inputWidgets": {},
     "nuid": "58a1502d-e073-471f-a8a1-5a7d24943371",
     "showTitle": false,
     "tableResultSettingsMap": {},
     "title": ""
    }
   },
   "source": [
    "## Generating personalized, impactful AI with the Data Intelligence Platform\n",
    "\n",
    "Because Databricks makes it easy to bring all your data together, we can easily leverage your own data and use it to super-charge the AI.\n",
    "\n",
    "Instead of General Intelligence, you'll have a extra-smart AI, understanding your business.\n",
    "\n",
    "Let's see how Databricks let us generate ultra-personalize content and instagram messages to drive more cookie love!\n",
    "\n",
    "### 1/ Prepare and review the dataset\n",
    "\n",
    "Dbdemos loaded the dataset for you in your catalog. In a real world, you'd have a few Delta Live Table pipeline together with Lakeflow connect to ingest your ERP/Sales Force/website data.\n",
    "\n",
    "Let's start by reviewing the dataset and understanding how it can help to make personalized recommendations.\n",
    "*Note: the cookie data now exists in the marketplace, feel free to pull it from here.*\n",
    "\n",
    "#### Let's focus on the main tables\n",
    "- **sales.franchises** - Contains information about all our business franchises (store name, location, country, size, ect).   \n",
    "- **sales.transactions** - Contains sales data for all franchises.\n",
    "- **media.customer_reviews** - Social media reviews for a bunch of different franchises.   "
   ]
  },
  {
   "cell_type": "code",
   "execution_count": 0,
   "metadata": {
    "application/vnd.databricks.v1+cell": {
     "cellMetadata": {
      "byteLimit": 2048000,
      "rowLimit": 10000
     },
     "inputWidgets": {},
     "nuid": "d3c3d855-2aff-4adf-a6ff-33b99f5d10e9",
     "showTitle": true,
     "tableResultSettingsMap": {},
     "title": "Load the dataset"
    },
    "jupyter": {
     "outputs_hidden": true
    }
   },
   "outputs": [],
   "source": [
    "%run ./_resources/00-init-cookie $reset_all=false"
   ]
  },
  {
   "cell_type": "code",
   "execution_count": 0,
   "metadata": {
    "application/vnd.databricks.v1+cell": {
     "cellMetadata": {
      "byteLimit": 2048000,
      "implicitDf": true,
      "rowLimit": 10000
     },
     "inputWidgets": {},
     "nuid": "bcb0db99-f046-4dd2-a4a6-d0a7f5d8b3e1",
     "showTitle": true,
     "tableResultSettingsMap": {},
     "title": "Our Business has many franchises across the world"
    }
   },
   "outputs": [],
   "source": [
    "%sql\n",
    "SELECT * FROM cookies_franchises;"
   ]
  },
  {
   "cell_type": "code",
   "execution_count": 0,
   "metadata": {
    "application/vnd.databricks.v1+cell": {
     "cellMetadata": {
      "byteLimit": 2048000,
      "implicitDf": true,
      "rowLimit": 10000
     },
     "inputWidgets": {},
     "nuid": "7d5c710c-a58d-4203-beaf-32007b894a66",
     "showTitle": true,
     "tableResultSettingsMap": {},
     "title": "Each franchise has many transactions"
    }
   },
   "outputs": [],
   "source": [
    "%sql\n",
    "SELECT * FROM cookies_transactions"
   ]
  },
  {
   "cell_type": "markdown",
   "metadata": {
    "application/vnd.databricks.v1+cell": {
     "cellMetadata": {
      "byteLimit": 2048000,
      "rowLimit": 10000
     },
     "inputWidgets": {},
     "nuid": "d99cbf2a-da19-4c95-964f-d6aa063c98c4",
     "showTitle": false,
     "tableResultSettingsMap": {},
     "title": ""
    }
   },
   "source": [
    "## 2/ Create our Unity Catalog Functions\n",
    "\n",
    "The cookie data now exists in your catalog.\n",
    "\n",
    "We'll now start creating custom functions that our Compound AI system will understand and leverage to gain insight on your business\n",
    "\n",
    "### Allow your LLM to retrieve the franchises for a given city"
   ]
  },
  {
   "cell_type": "code",
   "execution_count": 0,
   "metadata": {
    "application/vnd.databricks.v1+cell": {
     "cellMetadata": {
      "byteLimit": 2048000,
      "implicitDf": true,
      "rowLimit": 10000
     },
     "inputWidgets": {},
     "nuid": "d885255d-780e-4640-bc96-e636edd5d446",
     "showTitle": true,
     "tableResultSettingsMap": {},
     "title": "Retrieve Franchise by city"
    }
   },
   "outputs": [],
   "source": [
    "%sql\n",
    "--Now we create our first function. This takes in a city name and returns a table of any franchises that are in that city.\n",
    "--Note that we've added a comment to the input parameter to help guide the agent later on.\n",
    "CREATE OR REPLACE FUNCTION\n",
    "cookies_franchise_by_city ( city_name STRING COMMENT 'City to be searched' )\n",
    "returns table(franchiseID BIGINT, name STRING, size STRING)\n",
    "LANGUAGE SQL\n",
    "-- Make sure to add a comment so that your AI understands what it does\n",
    "COMMENT 'This function takes in a city name and returns a table of any franchises that are in that city.'\n",
    "return\n",
    "(SELECT franchiseID, name, size from cookies_franchises where lower(city)=lower(city_name) order by size desc)"
   ]
  },
  {
   "cell_type": "code",
   "execution_count": 0,
   "metadata": {
    "application/vnd.databricks.v1+cell": {
     "cellMetadata": {
      "byteLimit": 2048000,
      "implicitDf": true,
      "rowLimit": 10000
     },
     "inputWidgets": {},
     "nuid": "a34c11d0-bc95-4e6c-b95d-04df0e292e79",
     "showTitle": false,
     "tableResultSettingsMap": {},
     "title": ""
    }
   },
   "outputs": [],
   "source": [
    "%sql\n",
    "-- Test the function we just created\n",
    "SELECT * from cookies_franchise_by_city('Seattle')"
   ]
  },
  {
   "cell_type": "markdown",
   "metadata": {
    "application/vnd.databricks.v1+cell": {
     "cellMetadata": {
      "byteLimit": 2048000,
      "rowLimit": 10000
     },
     "inputWidgets": {},
     "nuid": "8696db99-5083-4c00-9d91-7211ead98602",
     "showTitle": false,
     "tableResultSettingsMap": {},
     "title": ""
    }
   },
   "source": [
    "### Sum all the sales for a given franchise, grouping the result per product\n",
    "\n",
    "The AI will be able to find the top products generating the most revenue"
   ]
  },
  {
   "cell_type": "code",
   "execution_count": 0,
   "metadata": {
    "application/vnd.databricks.v1+cell": {
     "cellMetadata": {
      "byteLimit": 2048000,
      "implicitDf": true,
      "rowLimit": 10000
     },
     "inputWidgets": {},
     "nuid": "3226e78d-eea5-462f-889f-78fe339c1b1b",
     "showTitle": false,
     "tableResultSettingsMap": {},
     "title": ""
    }
   },
   "outputs": [],
   "source": [
    "%sql\n",
    "--This function takes an ID as input, and this time does an aggregate to return the sales for that franchise_id.\n",
    "CREATE OR REPLACE FUNCTION\n",
    "cookies_franchise_sales (franchise_id BIGINT COMMENT 'ID of the franchise to be searched')\n",
    "returns table(total_sales BIGINT, total_quantity BIGINT, product STRING)\n",
    "LANGUAGE SQL\n",
    "COMMENT 'This function takes an ID as input, and this time does an aggregate to return the sales for that franchise_id'\n",
    "return\n",
    "  (SELECT SUM(totalPrice) AS total_sales, SUM(quantity) AS total_quantity, product \n",
    "    FROM cookies_transactions \n",
    "      WHERE franchiseID = franchise_id GROUP BY product)"
   ]
  },
  {
   "cell_type": "code",
   "execution_count": 0,
   "metadata": {
    "application/vnd.databricks.v1+cell": {
     "cellMetadata": {
      "byteLimit": 2048000,
      "implicitDf": true,
      "rowLimit": 10000
     },
     "inputWidgets": {},
     "nuid": "82b85230-5176-4d55-a05c-98cd75af8d9c",
     "showTitle": false,
     "tableResultSettingsMap": {},
     "title": ""
    }
   },
   "outputs": [],
   "source": [
    "%sql\n",
    "-- Test the function we just created\n",
    "SELECT * from cookies_franchise_sales(3000005)"
   ]
  },
  {
   "cell_type": "markdown",
   "metadata": {
    "application/vnd.databricks.v1+cell": {
     "cellMetadata": {
      "byteLimit": 2048000,
      "rowLimit": 10000
     },
     "inputWidgets": {},
     "nuid": "0f838e84-dedf-4fcb-9e26-22cde7047c67",
     "showTitle": false,
     "tableResultSettingsMap": {},
     "title": ""
    }
   },
   "source": [
    "### Get the best feedbacks for a given franchise\n",
    "\n",
    "This will let the AI understand what local customers like about our cookies!"
   ]
  },
  {
   "cell_type": "code",
   "execution_count": 0,
   "metadata": {
    "application/vnd.databricks.v1+cell": {
     "cellMetadata": {
      "byteLimit": 2048000,
      "implicitDf": true,
      "rowLimit": 10000
     },
     "inputWidgets": {},
     "nuid": "ec47acab-6691-4d11-8d8d-c8c207a7a45e",
     "showTitle": false,
     "tableResultSettingsMap": {},
     "title": ""
    }
   },
   "outputs": [],
   "source": [
    "%sql\n",
    "--This function takes an ID as input, and this time does an aggregate to return the sales for that franchise_id.\n",
    "CREATE OR REPLACE FUNCTION\n",
    "cookies_summarize_best_sellers_feedback (franchise_id BIGINT COMMENT 'ID of the franchise to be searched')\n",
    "returns STRING\n",
    "LANGUAGE SQL\n",
    "COMMENT 'This function will fetch the best feedback from a product and summarize them'\n",
    "return\n",
    "  SELECT AI_GEN(SUBSTRING('Extract the top 3 reason people like the cookies based on this list of review:' || ARRAY_JOIN(COLLECT_LIST(review), ' - '), 1, 80000)) AS all_reviews\n",
    "  FROM cookies_customer_reviews\n",
    "    where franchiseID = franchise_id and review_stars >= 4"
   ]
  },
  {
   "cell_type": "code",
   "execution_count": 0,
   "metadata": {
    "application/vnd.databricks.v1+cell": {
     "cellMetadata": {
      "byteLimit": 2048000,
      "implicitDf": true,
      "rowLimit": 10000
     },
     "inputWidgets": {},
     "nuid": "69724038-2a9f-4673-871c-0514f986bac6",
     "showTitle": false,
     "tableResultSettingsMap": {},
     "title": ""
    }
   },
   "outputs": [],
   "source": [
    "%sql\n",
    "-- Test the function we just created\n",
    "SELECT cookies_summarize_best_sellers_feedback(3000005)"
   ]
  },
  {
   "cell_type": "markdown",
   "metadata": {
    "application/vnd.databricks.v1+cell": {
     "cellMetadata": {
      "byteLimit": 2048000,
      "rowLimit": 10000
     },
     "inputWidgets": {},
     "isMarkdownSandbox": true,
     "nuid": "ce5fc2bf-601f-4b73-925c-501b37706066",
     "showTitle": false,
     "tableResultSettingsMap": {},
     "title": ""
    }
   },
   "source": [
    "## 3/ Testing our AI with Databricks Playground\n",
    "\n",
    "<img src=\"https://github.com/databricks-demos/dbdemos-resources/blob/main/images/product/llm-tools-functions/llm-tools-functions-playground.gif?raw=true\" width=\"500px\" style=\"float: right; margin-left: 10px; margin-bottom: 10px;\">\n",
    "\n",
    "\n",
    "Your functions are now available in Unity Catalog!\n",
    "\n",
    "To try out our functions with playground:\n",
    "- Open the [Playground](/ml/playground) \n",
    "- Select a model supporting tools (like Llama3.1)\n",
    "- Add the functions you want your model to leverage (`catalog.schema.function_name`)\n",
    "- Ask a question (for example to write an instagram post for Seattle), and playground will do the magic for you!\n"
   ]
  },
  {
   "cell_type": "markdown",
   "metadata": {
    "application/vnd.databricks.v1+cell": {
     "cellMetadata": {
      "byteLimit": 2048000,
      "rowLimit": 10000
     },
     "inputWidgets": {},
     "nuid": "67c28ba8-2d9a-4059-89fe-97adc56f6afc",
     "showTitle": false,
     "tableResultSettingsMap": {},
     "title": ""
    }
   },
   "source": [
    "### 4/ DIY: Create your own Agent chaining the tools with Langchain\n",
    "\n",
    "In this step, we're going to define three cruicial parts of our agent:\n",
    "- Tools for the Agent to use\n",
    "- LLM to serve as the agent's \"brains\"\n",
    "- System prompt that defines guidelines for the agent's tasks"
   ]
  },
  {
   "cell_type": "code",
   "execution_count": 0,
   "metadata": {
    "application/vnd.databricks.v1+cell": {
     "cellMetadata": {
      "byteLimit": 2048000,
      "rowLimit": 10000
     },
     "inputWidgets": {},
     "nuid": "717a687f-21eb-486f-9b5c-49416a6c1bd2",
     "showTitle": false,
     "tableResultSettingsMap": {},
     "title": ""
    }
   },
   "outputs": [],
   "source": [
    "from langchain_community.tools.databricks import UCFunctionToolkit\n",
    "import pandas as pd\n",
    "wh = get_shared_warehouse(name = None) #Get the first shared wh we can. See _resources/01-init for details\n",
    "print(f'This demo will be using the {wh.name} to execute the functions')\n",
    "\n",
    "def get_tools():\n",
    "    return (\n",
    "        UCFunctionToolkit(warehouse_id=wh.id)\n",
    "        # Include functions as tools using their qualified names.\n",
    "        # You can use \"{catalog_name}.{schema_name}.*\" to get all functions in a schema.\n",
    "        .include(f\"{catalog}.{db}.cookies_franchise_by_city\", \n",
    "                 f\"{catalog}.{db}.cookies_franchise_sales\", \n",
    "                 f\"{catalog}.{db}.cookies_summarize_best_sellers_feedback\")\n",
    "        .get_tools())\n",
    "\n",
    "display_tools(get_tools()) #display in a table the tools - see _resource/00-init for details"
   ]
  },
  {
   "cell_type": "code",
   "execution_count": 0,
   "metadata": {
    "application/vnd.databricks.v1+cell": {
     "cellMetadata": {
      "byteLimit": 2048000,
      "rowLimit": 10000
     },
     "inputWidgets": {},
     "nuid": "64e40fa0-424c-420c-b400-f557b1d990c4",
     "showTitle": false,
     "tableResultSettingsMap": {},
     "title": ""
    }
   },
   "outputs": [],
   "source": [
    "from langchain_community.chat_models.databricks import ChatDatabricks\n",
    "\n",
    "#We're going to use llama 3.3 because it's tool enabled and works great. Keep temp at 0 to make it more deterministic.\n",
    "llm = ChatDatabricks(endpoint=\"databricks-meta-llama-3-3-70b-instruct\",\n",
    "    temperature=0.0,\n",
    "    streaming=False)"
   ]
  },
  {
   "cell_type": "code",
   "execution_count": 0,
   "metadata": {
    "application/vnd.databricks.v1+cell": {
     "cellMetadata": {
      "byteLimit": 2048000,
      "rowLimit": 10000
     },
     "inputWidgets": {},
     "nuid": "aea3138c-7338-434a-a852-8a5fb57e3e4c",
     "showTitle": false,
     "tableResultSettingsMap": {},
     "title": ""
    }
   },
   "outputs": [],
   "source": [
    "from langchain_core.prompts import ChatPromptTemplate\n",
    "from langchain_community.chat_models import ChatDatabricks\n",
    "\n",
    "#This defines our agent's system prompt. Here we can tell it what we expect it to do and guide it on using specific functions. \n",
    "\n",
    "def get_prompt(history = [], prompt = None):\n",
    "    if not prompt:\n",
    "            prompt = \"\"\"You are a helpful assistant for a global company that oversees cookie stores. Your task is to help store owners understand more about their products and sales metrics. You have the ability to execute functions as follows: \n",
    "\n",
    "            Use the franchise_by_city function to retrieve the franchiseID for a given city name.\n",
    "\n",
    "            Use the franchise_sales function to retrieve the cookie sales for a given franchiseID.\n",
    "\n",
    "           Use the cookies_summarize_best_sellers_feedback function to understand what customers like the most.\n",
    "\n",
    "    Make sure to call the function for each step and provide a coherent response to the user. Don't mention tools to your users. Don't skip to the next step without ensuring the function was called and a result was retrieved. Only answer what the user is asking for. If a user ask to generate instagram posts, make sure you know what customers like the most to make the post relevant.\"\"\"\n",
    "    return ChatPromptTemplate.from_messages([\n",
    "            (\"system\", prompt),\n",
    "            (\"human\", \"{messages}\"),\n",
    "            (\"placeholder\", \"{agent_scratchpad}\"),\n",
    "    ])"
   ]
  },
  {
   "cell_type": "code",
   "execution_count": 0,
   "metadata": {
    "application/vnd.databricks.v1+cell": {
     "cellMetadata": {
      "byteLimit": 2048000,
      "rowLimit": 10000
     },
     "inputWidgets": {},
     "nuid": "e479658b-5f48-4ce5-9a8a-aa83b0f6159a",
     "showTitle": false,
     "tableResultSettingsMap": {},
     "title": ""
    }
   },
   "outputs": [],
   "source": [
    "from langchain.agents import AgentExecutor, create_openai_tools_agent\n",
    "\n",
    "prompt = get_prompt()\n",
    "tools = get_tools()\n",
    "agent = create_openai_tools_agent(llm, tools, prompt)\n",
    "\n",
    "#Put the pieces together to create our Agent\n",
    "agent_executor = AgentExecutor(agent=agent, tools=tools, verbose=True)"
   ]
  },
  {
   "cell_type": "code",
   "execution_count": 0,
   "metadata": {
    "application/vnd.databricks.v1+cell": {
     "cellMetadata": {
      "byteLimit": 2048000,
      "rowLimit": 10000
     },
     "inputWidgets": {},
     "nuid": "b4549421-18f7-4b25-b724-08b95d826c78",
     "showTitle": false,
     "tableResultSettingsMap": {},
     "title": ""
    }
   },
   "outputs": [],
   "source": [
    "from operator import itemgetter\n",
    "from langchain.schema.runnable import RunnableLambda\n",
    "from langchain_core.output_parsers import StrOutputParser\n",
    "\n",
    "#Very basic chain that allows us to pass the input (messages) into the Agent and collect the (output) as a string\n",
    "agent_str = ({ \"messages\": itemgetter(\"messages\")} | agent_executor | itemgetter(\"output\") | StrOutputParser())"
   ]
  },
  {
   "cell_type": "code",
   "execution_count": 0,
   "metadata": {
    "application/vnd.databricks.v1+cell": {
     "cellMetadata": {
      "byteLimit": 2048000,
      "rowLimit": 10000
     },
     "inputWidgets": {},
     "nuid": "86aa5757-ca65-4efe-9cf5-7b378dad465e",
     "showTitle": false,
     "tableResultSettingsMap": {},
     "title": ""
    }
   },
   "outputs": [],
   "source": [
    "#Lets ask our Compound AI Agent to generate an Instagram post. This requires it to:\n",
    "#     1. Look up what stores are in Chicago\n",
    "#     2. Use sales data to look up the best selling cookie at that store\n",
    "# COMING SOON:\n",
    "#     3. Retrieve reviews from a vector search endpoint\n",
    "#     4. Generate images from the shutterstock model\n",
    "\n",
    "answer=agent_str.invoke({\"messages\": \"Help me write an instagram message for the customers of my Seattle store, we want to increase our sales for the top 1 cookie only.\"})"
   ]
  },
  {
   "cell_type": "markdown",
   "metadata": {
    "application/vnd.databricks.v1+cell": {
     "cellMetadata": {
      "byteLimit": 2048000,
      "rowLimit": 10000
     },
     "inputWidgets": {},
     "nuid": "ec2450eb-d276-4cb6-8d76-8fea7f470fb6",
     "showTitle": false,
     "tableResultSettingsMap": {},
     "title": ""
    }
   },
   "source": [
    "### That's it! Our super customized review is ready:"
   ]
  },
  {
   "cell_type": "code",
   "execution_count": 0,
   "metadata": {
    "application/vnd.databricks.v1+cell": {
     "cellMetadata": {
      "byteLimit": 2048000,
      "rowLimit": 10000
     },
     "inputWidgets": {},
     "nuid": "a10bd092-d80f-4880-a3bc-b7262ee21058",
     "showTitle": false,
     "tableResultSettingsMap": {},
     "title": ""
    }
   },
   "outputs": [],
   "source": [
    "print(answer)"
   ]
  }
 ],
 "metadata": {
  "application/vnd.databricks.v1+notebook": {
   "computePreferences": {
    "hardware": {
     "accelerator": null,
     "gpuPoolId": null,
     "memory": null
    }
   },
   "dashboards": [],
   "environmentMetadata": {
    "environment_version": "2"
   },
   "inputWidgetPreferences": null,
   "language": "python",
   "notebookMetadata": {
    "mostRecentlyExecutedCommandWithImplicitDF": {
     "commandId": 7554958407134105,
     "dataframes": [
      "_sqldf"
     ]
    },
    "pythonIndentUnit": 4
   },
   "notebookName": "01-agent-cookie-demo",
   "widgets": {}
  },
  "language_info": {
   "name": "python"
  }
 },
 "nbformat": 4,
 "nbformat_minor": 0
}
