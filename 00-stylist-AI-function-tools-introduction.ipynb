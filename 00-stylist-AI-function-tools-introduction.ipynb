{
 "cells": [
  {
   "cell_type": "markdown",
   "metadata": {
    "application/vnd.databricks.v1+cell": {
     "cellMetadata": {
      "byteLimit": 2048000,
      "rowLimit": 10000
     },
     "inputWidgets": {},
     "isMarkdownSandbox": true,
     "nuid": "ee04e24d-66d5-42e5-8d71-406281c34a3e",
     "showTitle": false,
     "tableResultSettingsMap": {},
     "title": ""
    }
   },
   "source": [
    "# Composable AI systems: Building and AI Stylist Specialist selling our products\n",
    "\n",
    "## What's a composable AI system\n",
    "\n",
    "LLMs are great at answering general questions. However, general intelligence alone isn't enough to provide value to your customers.\n",
    "\n",
    "To be able to provide valuable answers, extra information is required, specific to your business and the user asking the question (your customer contract ID, the last email they sent to your support, your most recent sales report etc.).\n",
    "\n",
    "Composable AI systems are designed to answer this challenge. They are more advanced AI deployments, composed of multiple entities (tools) specialized in different action (retrieving information or acting on external systems). <br/>\n",
    "\n",
    "At a high level, you build & present a set of custom functions to the AI. The LLM can then reason about it, deciding which tool should be called and information gathered to answer the customer need.\n",
    "\n",
    "## Building Composable AI Systems with Databricks Mosaic AI agent framework\n",
    "\n",
    "\n",
    "Databricks simplifies this by providing a built-in service to:\n",
    "\n",
    "- Create and store your functions (tools) leveraging UC\n",
    "- Execute the functions in a safe way\n",
    "- Reason about the tools you selected and chain them together to properly answer your question. \n",
    "\n",
    "At a high level, here is the AI system we will implement in this demo:\n",
    "\n",
    "<img src=\"https://github.com/databricks-demos/dbdemos-resources/blob/main/images/product/llm-tools-functions/llm-tools-functions-flow.png?raw=true\" width=\"900px\">\n",
    "\n",
    "\n",
    "<!-- Collect usage data (view). Remove it to disable collection or disable tracker during installation. View README for more details.  -->\n",
    "<img width=\"1px\" src=\"https://ppxrzfxige.execute-api.us-west-2.amazonaws.com/v1/analytics?category=data-science&org_id=1444828305810485&notebook=%2F00-stylist-AI-function-tools-introduction&demo_name=llm-tools-functions&event=VIEW&path=%2F_dbdemos%2Fdata-science%2Fllm-tools-functions%2F00-stylist-AI-function-tools-introduction&version=1&user_hash=032e6e2b1e1657acd615f0e41ec6018001a06a0376d5aa7a9cab91bc229e1e1d\">"
   ]
  },
  {
   "cell_type": "code",
   "execution_count": 0,
   "metadata": {
    "application/vnd.databricks.v1+cell": {
     "cellMetadata": {
      "byteLimit": 2048000,
      "rowLimit": 10000
     },
     "inputWidgets": {},
     "nuid": "fc75dd47-3172-40e6-901d-c8bb9a966b64",
     "showTitle": false,
     "tableResultSettingsMap": {},
     "title": ""
    }
   },
   "outputs": [],
   "source": [
    "%pip install databricks-sdk==0.41.0 langchain-community==0.2.10 langchain-openai==0.1.19 mlflow==2.20.2 faker==33.1.0\n",
    "dbutils.library.restartPython()"
   ]
  },
  {
   "cell_type": "code",
   "execution_count": 0,
   "metadata": {
    "application/vnd.databricks.v1+cell": {
     "cellMetadata": {
      "byteLimit": 2048000,
      "rowLimit": 10000
     },
     "inputWidgets": {},
     "nuid": "6b5186f4-106c-42f2-8166-e4f095dda511",
     "showTitle": false,
     "tableResultSettingsMap": {},
     "title": ""
    },
    "jupyter": {
     "outputs_hidden": true
    }
   },
   "outputs": [],
   "source": [
    "%run ./_resources/00-init-stylist $reset_all=false"
   ]
  },
  {
   "cell_type": "markdown",
   "metadata": {
    "application/vnd.databricks.v1+cell": {
     "cellMetadata": {
      "byteLimit": 2048000,
      "rowLimit": 10000
     },
     "inputWidgets": {},
     "nuid": "e69f0809-f2b4-4f53-b606-d0c637a1704a",
     "showTitle": false,
     "tableResultSettingsMap": {},
     "title": ""
    }
   },
   "source": [
    "## Creating our tools: Using Unity Catalog Functions\n",
    "\n",
    "Let's start by defining the functions our LLM will be able to execute. These functions can contain any logic, from simple SQL to advanced python."
   ]
  },
  {
   "cell_type": "markdown",
   "metadata": {
    "application/vnd.databricks.v1+cell": {
     "cellMetadata": {
      "byteLimit": 2048000,
      "rowLimit": 10000
     },
     "inputWidgets": {},
     "nuid": "a7a5f6a3-862d-4ff0-aadd-5e10b0e8553f",
     "showTitle": false,
     "tableResultSettingsMap": {},
     "title": ""
    }
   },
   "source": [
    "### Computing Mathematics: converting inches to centimeters\n",
    "\n",
    "Our online shop is selling across all regions, and we know our customers often ask to convert cm to inches. However, plain LLMs are quite bad at executing math. To solve this, let's create a simple function doing the conversion.\n",
    "\n",
    "We'll save this function within Unity Catalog. You can open the explorer to review the functions created in this notebook.\n",
    "\n",
    "*Note: This is a very simple first example for this demo. We'll implement a broader math tool later on.*"
   ]
  },
  {
   "cell_type": "code",
   "execution_count": 0,
   "metadata": {
    "application/vnd.databricks.v1+cell": {
     "cellMetadata": {
      "byteLimit": 2048000,
      "implicitDf": true,
      "rowLimit": 10000
     },
     "inputWidgets": {},
     "nuid": "d3b88f1a-4467-4067-a195-44666a433a38",
     "showTitle": true,
     "tableResultSettingsMap": {},
     "title": "Convert inch to cm"
    }
   },
   "outputs": [],
   "source": [
    "%sql\n",
    "CREATE OR REPLACE FUNCTION convert_inch_to_cm(size_in_inch FLOAT)\n",
    "RETURNS FLOAT\n",
    "LANGUAGE SQL\n",
    "COMMENT 'convert size from inch to cm'\n",
    "RETURN size_in_inch * 2.54;\n",
    "\n",
    "-- let's test our function:\n",
    "SELECT convert_inch_to_cm(10) as 10_inches_in_cm;"
   ]
  },
  {
   "cell_type": "markdown",
   "metadata": {
    "application/vnd.databricks.v1+cell": {
     "cellMetadata": {
      "byteLimit": 2048000,
      "rowLimit": 10000
     },
     "inputWidgets": {},
     "nuid": "65b1f8be-02e1-4c31-924b-a330010ac2b4",
     "showTitle": false,
     "tableResultSettingsMap": {},
     "title": ""
    }
   },
   "source": [
    "### Executing a tool to fetch internal data: getting the latest customer orders\n",
    "\n",
    "We want our stylist assistant to be able to list all existing customer orders"
   ]
  },
  {
   "cell_type": "code",
   "execution_count": 0,
   "metadata": {
    "application/vnd.databricks.v1+cell": {
     "cellMetadata": {
      "byteLimit": 2048000,
      "implicitDf": true,
      "rowLimit": 10000
     },
     "inputWidgets": {},
     "nuid": "9cc51e24-5de5-44ff-9144-9047488be92a",
     "showTitle": false,
     "tableResultSettingsMap": {},
     "title": ""
    }
   },
   "outputs": [],
   "source": [
    "%sql\n",
    "CREATE OR REPLACE FUNCTION get_customer_orders ()\n",
    "RETURNS TABLE(user_id STRING,\n",
    "  id STRING,\n",
    "  transaction_date STRING,\n",
    "  item_count DOUBLE,\n",
    "  amount DOUBLE,\n",
    "  order_status STRING)\n",
    "COMMENT 'Returns a list of customer orders for the given customer ID (expect a UUID)'\n",
    "LANGUAGE SQL\n",
    "    RETURN\n",
    "    SELECT o.* from tools_orders o \n",
    "    inner join tools_customers c on c.id = o.user_id \n",
    "    where email=current_user() ORDER BY transaction_date desc;\n",
    "\n",
    "SELECT * FROM get_customer_orders();"
   ]
  },
  {
   "cell_type": "markdown",
   "metadata": {
    "application/vnd.databricks.v1+cell": {
     "cellMetadata": {
      "byteLimit": 2048000,
      "rowLimit": 10000
     },
     "inputWidgets": {},
     "nuid": "44dce53d-80c9-4015-9040-a8305f401209",
     "showTitle": false,
     "tableResultSettingsMap": {},
     "title": ""
    }
   },
   "source": [
    "### Executing a Python function to fetch external dataset in realtime: getting the weather\n",
    "\n",
    "We want our stylist assistant to give us recommendations based on the weather. Let's add a tool to fetch the weather based on longitude/latitude, using Python to call an external Weather API.\n",
    "\n",
    "**Note: This will be run by a serverless compute, and accessing external data, therefore requires serverless network egress access. If this fails in a serverless setup/playground, make sure you are allowing it in your networking configuration (open the workspace network option at admin account level)**"
   ]
  },
  {
   "cell_type": "code",
   "execution_count": 0,
   "metadata": {
    "application/vnd.databricks.v1+cell": {
     "cellMetadata": {
      "byteLimit": 2048000,
      "implicitDf": true,
      "rowLimit": 10000
     },
     "inputWidgets": {},
     "nuid": "453f9d88-2913-4aa1-ac0c-90a34b41a4a7",
     "showTitle": false,
     "tableResultSettingsMap": {},
     "title": ""
    }
   },
   "outputs": [],
   "source": [
    "%sql\n",
    "CREATE OR REPLACE FUNCTION get_weather(latitude DOUBLE, longitude DOUBLE)\n",
    "RETURNS STRUCT<temperature_in_celsius DOUBLE, rain_in_mm DOUBLE>\n",
    "LANGUAGE PYTHON\n",
    "COMMENT 'This function retrieves the current temperature and rain information for a given latitude and longitude using the Open-Meteo API.'\n",
    "AS\n",
    "$$\n",
    "  try:\n",
    "    import requests as r\n",
    "    #Note: this is provided for education only, non commercial - please get a license for real usage: https://api.open-meteo.com. Let s comment it to avoid issues for now\n",
    "    #weather = r.get(f'https://api.open-meteo.com/v1/forecast?latitude={latitude}&longitude={longitude}&current=temperature_2m,rain&forecast_days=1').json()\n",
    "    return {\n",
    "      \"temperature_in_celsius\": weather[\"current\"][\"temperature_2m\"],\n",
    "      \"rain_in_mm\": weather[\"current\"][\"rain\"]\n",
    "    }\n",
    "  except:\n",
    "    return {\"temperature_in_celsius\": 25.0, \"rain_in_mm\": 0.0}\n",
    "$$;\n",
    "\n",
    "-- let's test our function:\n",
    "SELECT get_weather(52.52, 13.41) as weather;"
   ]
  },
  {
   "cell_type": "markdown",
   "metadata": {
    "application/vnd.databricks.v1+cell": {
     "cellMetadata": {
      "byteLimit": 2048000,
      "rowLimit": 10000
     },
     "inputWidgets": {},
     "nuid": "b2f064a6-0a7f-4b99-b6f0-b41a2b387abd",
     "showTitle": false,
     "tableResultSettingsMap": {},
     "title": ""
    }
   },
   "source": [
    "### Creating a function calling LLMs with specific prompt as a tool\n",
    "\n",
    "You can also register tools containing custom prompts that your LLM can use to to execute actions based on the customer context.\n",
    "\n",
    "Let's create a tool that recommend the style for our user, based on the current weather."
   ]
  },
  {
   "cell_type": "code",
   "execution_count": 0,
   "metadata": {
    "application/vnd.databricks.v1+cell": {
     "cellMetadata": {
      "byteLimit": 2048000,
      "implicitDf": true,
      "rowLimit": 10000
     },
     "inputWidgets": {},
     "nuid": "c006ac45-629c-4b04-ad59-f4744b1f52ea",
     "showTitle": false,
     "tableResultSettingsMap": {},
     "title": ""
    }
   },
   "outputs": [],
   "source": [
    "%sql\n",
    "CREATE OR REPLACE FUNCTION recommend_outfit_description(requested_style STRING, temperature_in_celsius FLOAT, rain_in_mm FLOAT)\n",
    "RETURNS STRING\n",
    "LANGUAGE SQL\n",
    "COMMENT 'This function generate a stylist outfit description based on initial request and the current weather.'\n",
    "RETURN SELECT ai_query('databricks-meta-llama-3-3-70b-instruct',\n",
    "    CONCAT(\"You are a stylist assistant. Your goal is to give recommendation on what would be the best outfit for today. The current temperature is \",temperature_in_celsius ,\" celsius and rain is:\", rain_in_mm, \"mm. Give size in inches if any. Don't assume customer size if they don't share it. Give ideas of colors and other items to match. The user added this instruction based on what they like: \", requested_style)\n",
    "  ) AS recommended_outfit;\n",
    "\n",
    "-- let's test our function:\n",
    "SELECT recommend_outfit_description(\"I need a dress for an interview.\", 30.1, 0.0)"
   ]
  },
  {
   "cell_type": "markdown",
   "metadata": {
    "application/vnd.databricks.v1+cell": {
     "cellMetadata": {
      "byteLimit": 2048000,
      "rowLimit": 10000
     },
     "inputWidgets": {},
     "isMarkdownSandbox": true,
     "nuid": "04045ebc-5223-4854-b644-0e2478998558",
     "showTitle": false,
     "tableResultSettingsMap": {},
     "title": ""
    }
   },
   "source": [
    "### Using Vector search to find similar content as a tool\n",
    "\n",
    "Let's now add a tool to recomment similar items, based on an article description.\n",
    "\n",
    "We'll be using Databricks Vector Search to perform a realtime similarity search and return articles that we could suggest from our database.\n",
    "\n",
    "To do so, you can leverage the new `vector_search` SQL function. See [Documentation](https://docs.databricks.com/en/sql/language-manual/functions/vector_search.html) for more details.\n",
    "\n",
    "<div style=\"background-color: #e3efff\"> To simplify this demo, we'll fake the call to the vector_search and make it work without pre-loading the demo</div>"
   ]
  },
  {
   "cell_type": "code",
   "execution_count": 0,
   "metadata": {
    "application/vnd.databricks.v1+cell": {
     "cellMetadata": {
      "byteLimit": 2048000,
      "rowLimit": 10000
     },
     "inputWidgets": {},
     "nuid": "f28ea558-99b0-46cb-b411-92013ebbb448",
     "showTitle": false,
     "tableResultSettingsMap": {},
     "title": ""
    }
   },
   "outputs": [],
   "source": [
    "%sql\n",
    "-- Commenting this as the index isn't pre-loaded in the demo to simplify the experience.\n",
    "-- CREATE OR REPLACE FUNCTION find_clothes_matching_description (description STRING)\n",
    "-- RETURNS TABLE (category STRING, color STRING, id STRING, price DOUBLE, search_score DOUBLE)\n",
    "-- LANGUAGE SQL\n",
    "-- COMMENT 'Finds clothes in our catalog matching the description using AI query and returns a table of results.'\n",
    "-- RETURN\n",
    "--  SELECT * FROM VECTOR_SEARCH(index => 'catalog.schema.clothing_index', query => query, num_results => 3) vs\n"
   ]
  },
  {
   "cell_type": "code",
   "execution_count": 0,
   "metadata": {
    "application/vnd.databricks.v1+cell": {
     "cellMetadata": {
      "byteLimit": 2048000,
      "implicitDf": true,
      "rowLimit": 10000
     },
     "inputWidgets": {},
     "nuid": "f112e715-6a88-48d6-a123-8e0bc8ff00c3",
     "showTitle": false,
     "tableResultSettingsMap": {},
     "title": ""
    }
   },
   "outputs": [],
   "source": [
    "%sql\n",
    "-- Generate fake data instead of calling the VS index with vector_search;\n",
    "CREATE OR REPLACE FUNCTION find_clothes_matching_description (description STRING)\n",
    "RETURNS TABLE (id BIGINT, name STRING, color STRING, category STRING, price DOUBLE, description STRING)\n",
    "COMMENT 'Finds existing clothes in our catalog matching the description using AI query and returns a table of results.'\n",
    "RETURN\n",
    "SELECT clothes.* FROM (\n",
    "  SELECT explode(from_json(\n",
    "    ai_query(\n",
    "      'databricks-meta-llama-3-3-70b-instruct', \n",
    "      CONCAT(\n",
    "        'returns a json list of 3 json object clothes: <\"id\": bigint, \"name\": string, \"color\": string, \"category\": string, \"price\": double, \"description\": string>. These clothes should match the following user description: ', description, '. Return only the answer as a javascript json object ready to be parsed, no comment or text or javascript or ``` at the beginning.' ) ), 'ARRAY<STRUCT<id: BIGINT, name: STRING, color: STRING, category: STRING, price: DOUBLE, description: STRING>>' )) AS clothes );\n",
    "\n",
    "-- let's test our function:\n",
    "SELECT * FROM find_clothes_matching_description('a red dress');"
   ]
  },
  {
   "cell_type": "markdown",
   "metadata": {
    "application/vnd.databricks.v1+cell": {
     "cellMetadata": {
      "byteLimit": 2048000,
      "rowLimit": 10000
     },
     "inputWidgets": {},
     "isMarkdownSandbox": true,
     "nuid": "62ee8147-491b-423b-a0ed-62b93ad204f5",
     "showTitle": false,
     "tableResultSettingsMap": {},
     "title": ""
    }
   },
   "source": [
    "## Using Databricks Playground to test our functions\n",
    "\n",
    "Databricks Playground provides a built-in integration with your functions. It'll analyze which functions are available, and call them to properly answer your question.\n",
    "\n",
    "\n",
    "<img src=\"https://github.com/databricks-demos/dbdemos-resources/blob/main/images/product/llm-tools-functions/llm-tools-functions-playground.gif?raw=true\" style=\"float: right; margin-left: 10px; margin-bottom: 10px;\">\n",
    "\n",
    "To try out our functions with playground:\n",
    "- Open the [Playground](/ml/playground) \n",
    "- Select a model supporting tools (like Llama3.1)\n",
    "- Add the functions you want your model to leverage (`catalog.schema.function_name`)\n",
    "- Ask a question (for example to convert inch to cm), and playground will do the magic for you!\n",
    "\n",
    "<br/>\n",
    "<div style=\"background-color: #d4e7ff; padding: 10px; border-radius: 15px;clear:both\">\n",
    "<strong>Note:</strong> Tools in playground is in preview, reach-out your Databricks Account team for more details and to enable it.\n",
    "</div>\n"
   ]
  },
  {
   "cell_type": "markdown",
   "metadata": {
    "application/vnd.databricks.v1+cell": {
     "cellMetadata": {
      "byteLimit": 2048000,
      "rowLimit": 10000
     },
     "inputWidgets": {},
     "nuid": "c50cb087-d933-4954-ae9c-178f9caba1f5",
     "showTitle": false,
     "tableResultSettingsMap": {},
     "title": ""
    }
   },
   "source": [
    "\n",
    "## Building an AI system leveraging our Databricks UC functions with Langchain\n",
    "\n",
    "These tools can also directly be leveraged on custom model. In this case, you'll be in charge of chaining and calling the functions yourself (the playground does it for you!)\n",
    "\n",
    "Langchain makes it easy for you. You can create your own custom AI System using a Langchain model and a list of existing tools (in our case, the tools will be the functions we just created)"
   ]
  },
  {
   "cell_type": "markdown",
   "metadata": {
    "application/vnd.databricks.v1+cell": {
     "cellMetadata": {
      "byteLimit": 2048000,
      "rowLimit": 10000
     },
     "inputWidgets": {},
     "nuid": "1be789a4-276c-4f64-ab53-96bcc536995c",
     "showTitle": false,
     "tableResultSettingsMap": {},
     "title": ""
    }
   },
   "source": [
    "### Enable MLflow Tracing\n",
    "\n",
    "Enabling MLflow Tracing is required to:\n",
    "- View the chain's trace visualization in this notebook\n",
    "- Capture the chain's trace in production via Inference Tables\n",
    "- Evaluate the chain via the Mosaic AI Evaluation Suite"
   ]
  },
  {
   "cell_type": "code",
   "execution_count": 0,
   "metadata": {
    "application/vnd.databricks.v1+cell": {
     "cellMetadata": {
      "byteLimit": 2048000,
      "rowLimit": 10000
     },
     "inputWidgets": {},
     "nuid": "6a2908d4-655e-484b-9388-56ea11f304df",
     "showTitle": false,
     "tableResultSettingsMap": {},
     "title": ""
    }
   },
   "outputs": [],
   "source": [
    "import mlflow\n",
    "mlflow.langchain.autolog()"
   ]
  },
  {
   "cell_type": "markdown",
   "metadata": {
    "application/vnd.databricks.v1+cell": {
     "cellMetadata": {
      "byteLimit": 2048000,
      "rowLimit": 10000
     },
     "inputWidgets": {},
     "nuid": "3ffed6ff-4543-41ee-af07-2cf8b23df265",
     "showTitle": false,
     "tableResultSettingsMap": {},
     "title": ""
    }
   },
   "source": [
    "### Start by creating our tools from Unity Catalog\n",
    "\n",
    "Let's use UCFunctionToolkit to select which functions we want to use as tool for our demo:"
   ]
  },
  {
   "cell_type": "code",
   "execution_count": 0,
   "metadata": {
    "application/vnd.databricks.v1+cell": {
     "cellMetadata": {
      "byteLimit": 2048000,
      "rowLimit": 10000
     },
     "inputWidgets": {},
     "nuid": "792e2eb9-a064-41ef-aca8-dc77d8edc5e4",
     "showTitle": false,
     "tableResultSettingsMap": {},
     "title": ""
    }
   },
   "outputs": [],
   "source": [
    "from langchain_community.tools.databricks import UCFunctionToolkit\n",
    "import pandas as pd\n",
    "wh = get_shared_warehouse(name = None) #Get the first shared wh we can. See _resources/01-init for details\n",
    "print(f'This demo will be using the wg {wh.name} to execute the functions')\n",
    "\n",
    "def get_tools():\n",
    "    return (\n",
    "        UCFunctionToolkit(warehouse_id=wh.id)\n",
    "        # Include functions as tools using their qualified names.\n",
    "        # You can use \"{catalog_name}.{schema_name}.*\" to get all functions in a schema.\n",
    "        .include(f\"{catalog}.{db}.*\")\n",
    "        .get_tools())\n",
    "\n",
    "display_tools(get_tools()) #display in a table the tools - see _resource/00-init for details"
   ]
  },
  {
   "cell_type": "markdown",
   "metadata": {
    "application/vnd.databricks.v1+cell": {
     "cellMetadata": {
      "byteLimit": 2048000,
      "rowLimit": 10000
     },
     "inputWidgets": {},
     "nuid": "95edc738-e384-4100-a3cb-348c13e644a6",
     "showTitle": false,
     "tableResultSettingsMap": {},
     "title": ""
    }
   },
   "source": [
    "### Let's create our langchain agent using the tools we just created"
   ]
  },
  {
   "cell_type": "code",
   "execution_count": 0,
   "metadata": {
    "application/vnd.databricks.v1+cell": {
     "cellMetadata": {
      "byteLimit": 2048000,
      "rowLimit": 10000
     },
     "inputWidgets": {},
     "nuid": "fd2ec1ba-681b-40dc-b220-37c517b94634",
     "showTitle": true,
     "tableResultSettingsMap": {},
     "title": "Create the chat"
    }
   },
   "outputs": [],
   "source": [
    "\n",
    "from langchain_openai import ChatOpenAI\n",
    "from databricks.sdk import WorkspaceClient\n",
    "\n",
    "# Note: langchain_community.chat_models.ChatDatabricks doesn't support create_tool_calling_agent yet - it'll soon be availableK. Let's use ChatOpenAI for now\n",
    "llm = ChatOpenAI(\n",
    "  base_url=f\"{WorkspaceClient().config.host}/serving-endpoints/\",\n",
    "  api_key=dbutils.notebook.entry_point.getDbutils().notebook().getContext().apiToken().get(),\n",
    "  model=\"databricks-meta-llama-3-3-70b-instruct\"\n",
    ")\n"
   ]
  },
  {
   "cell_type": "code",
   "execution_count": 0,
   "metadata": {
    "application/vnd.databricks.v1+cell": {
     "cellMetadata": {
      "byteLimit": 2048000,
      "rowLimit": 10000
     },
     "inputWidgets": {},
     "nuid": "3dd33898-07b1-407d-8ed5-2f3d3c5dcdfe",
     "showTitle": true,
     "tableResultSettingsMap": {},
     "title": "Define the Prompt"
    }
   },
   "outputs": [],
   "source": [
    "from langchain_core.prompts import ChatPromptTemplate\n",
    "from langchain_community.chat_models import ChatDatabricks\n",
    "\n",
    "def get_prompt(history = [], prompt = None):\n",
    "    if not prompt:\n",
    "            prompt = \"\"\"You are a helpful fashion assistant. Your task is to recommend cothes to the users. You can use the following tools:\n",
    "    - Use the convert_inch_to_cm to covert inch to cm if the customer ask for it\n",
    "    - Use get_customer_orders to get the list of orders and their status, total amount and number of article. \n",
    "    - Use find_clothes_matching_description to find existing clothes from our internal catalog and suggest article to the customer\n",
    "    - Use recommend_outfit if a customer ask you for a style. This function take the weather as parameter. Use the get_weather function first before calling this function to get the current temperature and rain. The current user location is 52.52, 13.41.\n",
    "\n",
    "    Make sure to use the appropriate tool for each step and provide a coherent response to the user. Don't mention tools to your users. Only answer what the user is asking for. If the question isn't related to the tools or style/clothe, say you're sorry but can't answer\"\"\"\n",
    "    return ChatPromptTemplate.from_messages([\n",
    "            (\"system\", prompt),\n",
    "            (\"human\", \"{input}\"),\n",
    "            (\"placeholder\", \"{agent_scratchpad}\"),\n",
    "    ])"
   ]
  },
  {
   "cell_type": "code",
   "execution_count": 0,
   "metadata": {
    "application/vnd.databricks.v1+cell": {
     "cellMetadata": {
      "byteLimit": 2048000,
      "rowLimit": 10000
     },
     "inputWidgets": {},
     "nuid": "6ff6da00-6581-4f79-9a16-af2cc8620555",
     "showTitle": false,
     "tableResultSettingsMap": {},
     "title": ""
    }
   },
   "outputs": [],
   "source": [
    "from langchain.agents import AgentExecutor, create_tool_calling_agent\n",
    "prompt = get_prompt()\n",
    "tools = get_tools()\n",
    "agent = create_tool_calling_agent(llm, tools, prompt)\n",
    "agent_executor = AgentExecutor(agent=agent, tools=tools, verbose=True)"
   ]
  },
  {
   "cell_type": "markdown",
   "metadata": {
    "application/vnd.databricks.v1+cell": {
     "cellMetadata": {
      "byteLimit": 2048000,
      "rowLimit": 10000
     },
     "inputWidgets": {},
     "nuid": "4abea771-7898-4c42-bb4c-e3013c0ad7e6",
     "showTitle": false,
     "tableResultSettingsMap": {},
     "title": ""
    }
   },
   "source": [
    "### Let's give it a try: Asking to run a simple size conversion.\n",
    "Under the hood, we want this to call our Math conversion function:"
   ]
  },
  {
   "cell_type": "code",
   "execution_count": 0,
   "metadata": {
    "application/vnd.databricks.v1+cell": {
     "cellMetadata": {
      "byteLimit": 2048000,
      "rowLimit": 10000
     },
     "inputWidgets": {},
     "nuid": "d9e580f7-cd18-43e1-b1a2-ce72b3d0c3be",
     "showTitle": false,
     "tableResultSettingsMap": {},
     "title": ""
    }
   },
   "outputs": [],
   "source": [
    "#make sure our log is enabled to properly display and trace the call chain \n",
    "mlflow.langchain.autolog()\n",
    "agent_executor.invoke({\"input\": \"what's 12in in cm?\"})"
   ]
  },
  {
   "cell_type": "code",
   "execution_count": 0,
   "metadata": {
    "application/vnd.databricks.v1+cell": {
     "cellMetadata": {
      "byteLimit": 2048000,
      "rowLimit": 10000
     },
     "inputWidgets": {},
     "nuid": "a3180ea8-e4d4-411e-8518-5d20072127f6",
     "showTitle": false,
     "tableResultSettingsMap": {},
     "title": ""
    }
   },
   "outputs": [],
   "source": [
    "agent_executor.invoke({\"input\": \"what are my latest orders?\"})"
   ]
  },
  {
   "cell_type": "markdown",
   "metadata": {
    "application/vnd.databricks.v1+cell": {
     "cellMetadata": {
      "byteLimit": 2048000,
      "rowLimit": 10000
     },
     "inputWidgets": {},
     "nuid": "57fc3310-6c7f-4675-addc-21cca7657a68",
     "showTitle": false,
     "tableResultSettingsMap": {},
     "title": ""
    }
   },
   "source": [
    "### Chaining multiple tools\n",
    "\n",
    "Let's see if the agent can properly chain the calls, using multiple tools and passing the values from one to another. We'll ask for an outfit for today, and the expectation is that the LLM will fetch the weather before."
   ]
  },
  {
   "cell_type": "code",
   "execution_count": 0,
   "metadata": {
    "application/vnd.databricks.v1+cell": {
     "cellMetadata": {
      "byteLimit": 2048000,
      "rowLimit": 10000
     },
     "inputWidgets": {},
     "nuid": "e34860a9-7796-467c-85f8-b8348f546222",
     "showTitle": false,
     "tableResultSettingsMap": {},
     "title": ""
    }
   },
   "outputs": [],
   "source": [
    "agent_executor = AgentExecutor(agent=agent, tools=tools, verbose=True)\n",
    "answer = agent_executor.invoke({\"input\": \"I need a dress for an interview I have today. What style would you recommend for today?\"})"
   ]
  },
  {
   "cell_type": "code",
   "execution_count": 0,
   "metadata": {
    "application/vnd.databricks.v1+cell": {
     "cellMetadata": {
      "byteLimit": 2048000,
      "rowLimit": 10000
     },
     "inputWidgets": {},
     "nuid": "dc3639f2-3ad6-4cd3-b740-0d9dbc844a0f",
     "showTitle": false,
     "tableResultSettingsMap": {},
     "title": ""
    }
   },
   "outputs": [],
   "source": [
    "#Note: in a real app, we would include the preview discussion as history to keep the reference.\n",
    "answer = agent_executor.invoke({\"input\": \"Can you give me a list of red dresses I can buy?\"})"
   ]
  },
  {
   "cell_type": "code",
   "execution_count": 0,
   "metadata": {
    "application/vnd.databricks.v1+cell": {
     "cellMetadata": {
      "byteLimit": 2048000,
      "rowLimit": 10000
     },
     "inputWidgets": {},
     "nuid": "b9b4dd5f-b73d-494c-b1da-eb7baadd3afe",
     "showTitle": false,
     "tableResultSettingsMap": {},
     "title": ""
    }
   },
   "outputs": [],
   "source": [
    "displayHTML(answer['output'].replace('\\n', '<br>'))"
   ]
  },
  {
   "cell_type": "markdown",
   "metadata": {
    "application/vnd.databricks.v1+cell": {
     "cellMetadata": {
      "byteLimit": 2048000,
      "rowLimit": 10000
     },
     "inputWidgets": {},
     "nuid": "79ed7bab-f786-4668-9513-5bb6a8da41b5",
     "showTitle": false,
     "tableResultSettingsMap": {},
     "title": ""
    }
   },
   "source": [
    "## Extra: running more advanced functions using python:\n",
    "\n",
    "Let's see a few more advanced tools example"
   ]
  },
  {
   "cell_type": "markdown",
   "metadata": {
    "application/vnd.databricks.v1+cell": {
     "cellMetadata": {
      "byteLimit": 2048000,
      "rowLimit": 10000
     },
     "inputWidgets": {},
     "nuid": "f40b0877-3cf7-4da4-ae97-eb80560ba2b1",
     "showTitle": false,
     "tableResultSettingsMap": {},
     "title": ""
    }
   },
   "source": [
    "### Calculator tool: Supporting math operations \n",
    "Let's add a function to allow our LLM to execute any Math operation. \n",
    "\n",
    "Databricks runs the python in a safe container. However, we'll filter what the function can do to avoid any potential issues with prompt injection (so that the user cannot execute other python instructions)."
   ]
  },
  {
   "cell_type": "code",
   "execution_count": 0,
   "metadata": {
    "application/vnd.databricks.v1+cell": {
     "cellMetadata": {
      "byteLimit": 2048000,
      "implicitDf": true,
      "rowLimit": 10000
     },
     "inputWidgets": {},
     "nuid": "c1e48a47-c485-4bde-8b73-de83d7cc2109",
     "showTitle": false,
     "tableResultSettingsMap": {},
     "title": ""
    }
   },
   "outputs": [],
   "source": [
    "%sql\n",
    "CREATE OR REPLACE FUNCTION compute_math(expr STRING)\n",
    "RETURNS STRING\n",
    "LANGUAGE PYTHON\n",
    "COMMENT 'Run any mathematical function and returns the result as output. Supports python syntax like math.sqrt(13)'\n",
    "AS\n",
    "$$\n",
    "  import ast\n",
    "  import operator\n",
    "  import math\n",
    "  operators = {ast.Add: operator.add, ast.Sub: operator.sub, ast.Mult: operator.mul, ast.Div: operator.truediv, ast.Pow: operator.pow, ast.Mod: operator.mod, ast.FloorDiv: operator.floordiv, ast.UAdd: operator.pos, ast.USub: operator.neg}\n",
    "    \n",
    "  # Supported functions from the math module\n",
    "  functions = {name: getattr(math, name) for name in dir(math) if callable(getattr(math, name))}\n",
    "\n",
    "  def eval_node(node):\n",
    "    if isinstance(node, ast.Num):  # <number>\n",
    "      return node.n\n",
    "    elif isinstance(node, ast.BinOp):  # <left> <operator> <right>\n",
    "      return operators[type(node.op)](eval_node(node.left), eval_node(node.right))\n",
    "    elif isinstance(node, ast.UnaryOp):  # <operator> <operand> e.g., -1\n",
    "      return operators[type(node.op)](eval_node(node.operand))\n",
    "    elif isinstance(node, ast.Call):  # <func>(<args>)\n",
    "      func = node.func.id\n",
    "      if func in functions:\n",
    "        args = [eval_node(arg) for arg in node.args]\n",
    "        return functions[func](*args)\n",
    "      else:\n",
    "        raise TypeError(f\"Unsupported function: {func}\")\n",
    "    else:\n",
    "      raise TypeError(f\"Unsupported type: {type(node)}\")  \n",
    "  try:\n",
    "    if expr.startswith('```') and expr.endswith('```'):\n",
    "      expr = expr[3:-3].strip()      \n",
    "    node = ast.parse(expr, mode='eval').body\n",
    "    return eval_node(node)\n",
    "  except Exception as ex:\n",
    "    return str(ex)\n",
    "$$;\n",
    "-- let's test our function:\n",
    "SELECT compute_math(\"(2+2)/3\") as result;"
   ]
  },
  {
   "cell_type": "markdown",
   "metadata": {
    "application/vnd.databricks.v1+cell": {
     "cellMetadata": {
      "byteLimit": 2048000,
      "rowLimit": 10000
     },
     "inputWidgets": {},
     "nuid": "09b3b756-ecd6-4b51-bfbf-b28eabf6a063",
     "showTitle": false,
     "tableResultSettingsMap": {},
     "title": ""
    }
   },
   "source": [
    "### Run any python function\n",
    "\n",
    "If we are creating a coding assistant, it can be useful to allow our AI System to run python code to try them and output the results to the user. **Be careful doing that, as any code could be executed by the user.**\n",
    "\n",
    "Here is an example:"
   ]
  },
  {
   "cell_type": "code",
   "execution_count": 0,
   "metadata": {
    "application/vnd.databricks.v1+cell": {
     "cellMetadata": {
      "byteLimit": 2048000,
      "implicitDf": true,
      "rowLimit": 10000
     },
     "inputWidgets": {},
     "nuid": "0dd9558d-b2f2-454f-a860-18bee2f9929a",
     "showTitle": false,
     "tableResultSettingsMap": {},
     "title": ""
    }
   },
   "outputs": [],
   "source": [
    "%sql\n",
    "CREATE OR REPLACE FUNCTION execute_python_code(python_code STRING)\n",
    "RETURNS STRING\n",
    "LANGUAGE PYTHON\n",
    "COMMENT \"Run python code. The code should end with a return statement and this function will return it as a string. Only send valid python to this function. Here is an exampe of python code input: 'def square_function(number):\\\\n  return number*number\\\\n\\\\nreturn square_function(3)'\"\n",
    "AS\n",
    "$$\n",
    "    import traceback\n",
    "    try:\n",
    "        import re\n",
    "        # Remove code block markers (e.g., ```python) and strip whitespace```\n",
    "        python_code = re.sub(r\"^\\s*```(?:python)?|```\\s*$\", \"\", python_code).strip()\n",
    "        # Unescape any escaped newline characters\n",
    "        python_code = python_code.replace(\"\\\\n\", \"\\n\")\n",
    "        # Properly indent the code for wrapping\n",
    "        indented_code = \"\\n    \".join(python_code.split(\"\\n\"))\n",
    "        # Define a wrapper function to execute the code\n",
    "        exec_globals = {}\n",
    "        exec_locals = {}\n",
    "        wrapper_code = \"def _temp_function():\\n    \"+indented_code\n",
    "        exec(wrapper_code, exec_globals, exec_locals)\n",
    "        # Execute the wrapped function and return its output\n",
    "        result = exec_locals[\"_temp_function\"]()\n",
    "        return result\n",
    "    except Exception as ex:\n",
    "        return traceback.format_exc()\n",
    "$$;\n",
    "-- let's test our function:\n",
    "\n",
    "SELECT execute_python_code(\"return 'Hello World! '* 3\") as result;"
   ]
  },
  {
   "cell_type": "code",
   "execution_count": 0,
   "metadata": {
    "application/vnd.databricks.v1+cell": {
     "cellMetadata": {
      "byteLimit": 2048000,
      "rowLimit": 10000
     },
     "inputWidgets": {},
     "nuid": "42c7536c-8e83-495e-9049-99fdd839a7e3",
     "showTitle": false,
     "tableResultSettingsMap": {},
     "title": ""
    }
   },
   "outputs": [],
   "source": [
    "from langchain.agents import AgentExecutor, create_tool_calling_agent\n",
    "prompt = get_prompt(prompt=\"You are an assistant for a python developer. Internally, you have a tool named execute_python_code that can generate and run python code to help answering what the customer is asking. input: valid python code as a string. output: the result of the return value from the code execution. Don't mention you have tools or the tools name. Make sure you send the full python code at once to the function and that the code has a return statement at the end to capture the result. Don't print anything in the code you write, return the result you need as final instruction. Make sure the python code is valid. Only send python. Here is an example: 'def square_function(number):\\\\n  return number*number\\\\n\\\\nreturn square_function(3)'\")\n",
    "tools = get_tools()\n",
    "agent = create_tool_calling_agent(llm, tools, prompt)\n",
    "agent_executor = AgentExecutor(agent=agent, tools=tools, verbose=True)\n",
    "\n",
    "#Let's print the answer! Note that the LLM often makes a few error, but then analyze it and self-correct.\n",
    "answer = agent_executor.invoke({\"input\": \"What's the result of the fibonacci suite? Display its result for 5.\"})\n",
    "displayHTML(answer['output'].replace('\\n', '<br>'))"
   ]
  },
  {
   "cell_type": "markdown",
   "metadata": {
    "application/vnd.databricks.v1+cell": {
     "cellMetadata": {
      "byteLimit": 2048000,
      "rowLimit": 10000
     },
     "inputWidgets": {},
     "nuid": "53dd7692-ff87-493c-93b3-f4e961b646a1",
     "showTitle": false,
     "tableResultSettingsMap": {},
     "title": ""
    }
   },
   "source": [
    "## Deploying our Agent Executor as Model Serving Endpoint\n",
    "\n",
    "We're now ready to package our chain within MLFLow, and deploy it as a Model Serving Endpoint, leveraging Databricks Agent Framework and its review application."
   ]
  },
  {
   "cell_type": "code",
   "execution_count": 0,
   "metadata": {
    "application/vnd.databricks.v1+cell": {
     "cellMetadata": {
      "byteLimit": 2048000,
      "rowLimit": 10000
     },
     "inputWidgets": {},
     "nuid": "c3365c88-5353-41fd-b316-66ba937afdc9",
     "showTitle": true,
     "tableResultSettingsMap": {},
     "title": "Create the chain"
    }
   },
   "outputs": [],
   "source": [
    "# TODO: write this as a separate file if you want to deploy it properly\n",
    "from langchain.schema.runnable import RunnableLambda\n",
    "from langchain_core.output_parsers import StrOutputParser\n",
    "\n",
    "# Function to extract the user's query\n",
    "def extract_user_query_string(chat_messages_array):\n",
    "    return chat_messages_array[-1][\"content\"]\n",
    "\n",
    "# Wrapping the agent_executor invocation\n",
    "def agent_executor_wrapper(input_data):\n",
    "    result = agent_executor.invoke({\"input\": input_data})\n",
    "    return result[\"output\"]\n",
    "\n",
    "# Create the chain using the | operator with StrOutputParser\n",
    "chain = (\n",
    "    RunnableLambda(lambda data: extract_user_query_string(data[\"messages\"]))  # Extract the user query\n",
    "    | RunnableLambda(agent_executor_wrapper)  # Pass the query to the agent executor\n",
    "    | StrOutputParser()  # Optionally parse the output to ensure it's a clean string\n",
    ")"
   ]
  },
  {
   "cell_type": "code",
   "execution_count": 0,
   "metadata": {
    "application/vnd.databricks.v1+cell": {
     "cellMetadata": {
      "byteLimit": 2048000,
      "rowLimit": 10000
     },
     "inputWidgets": {},
     "nuid": "c2a8b43b-b66b-42ad-a32c-4166a5459e26",
     "showTitle": true,
     "tableResultSettingsMap": {},
     "title": "Let's try our chain"
    }
   },
   "outputs": [],
   "source": [
    "# Example input data\n",
    "input_data = {\n",
    "    \"messages\": [\n",
    "        {\"content\": \"Write a function that computes the Fibonacci sequence in Python and displays its result for 5.\"}\n",
    "    ]\n",
    "}\n",
    "# Run the chain\n",
    "answer = chain.invoke(input_data)\n",
    "displayHTML(answer.replace('\\n', '<br>'))"
   ]
  },
  {
   "cell_type": "markdown",
   "metadata": {
    "application/vnd.databricks.v1+cell": {
     "cellMetadata": {
      "byteLimit": 2048000,
      "rowLimit": 10000
     },
     "inputWidgets": {},
     "nuid": "1809bf74-5f99-4ca5-8549-b95476c3a339",
     "showTitle": false,
     "tableResultSettingsMap": {},
     "title": ""
    }
   },
   "source": [
    "## Deploying the agent as a model serving endpoint\n",
    "\n",
    "Databricks automatically generates all the required notebooks and setup for you to deploy these agents!\n",
    "\n",
    "To deploy them with the latest configuration, open [Databricks Playground ](/ml/playground), select the tools you want to use and click on the \"Export Notebook\" button on the top!\n",
    "\n",
    "This will generate notebooks pre-configured for you, including the review application to start testing and collecting your new model!"
   ]
  },
  {
   "cell_type": "markdown",
   "metadata": {
    "application/vnd.databricks.v1+cell": {
     "cellMetadata": {
      "byteLimit": 2048000,
      "rowLimit": 10000
     },
     "inputWidgets": {},
     "nuid": "1da1ceda-a221-4d26-8d5b-a27de7c5f93f",
     "showTitle": false,
     "tableResultSettingsMap": {},
     "title": ""
    }
   },
   "source": [
    "## Conclusion\n",
    "That's it, we saw how you can leverage Databricks Functions as tools within your AI system.\n",
    "\n",
    "This demo gave you a simple overview and some examples to get started. You can take it to the next level within your own AI Systems!\n",
    "\n",
    "Once your application is complete and your chain ready to be deployed, you can easily serve your model as a Model Serving Endpoint, acting as your Compound AI System!\n",
    "\n",
    "### Coming soon\n",
    "\n",
    "We'll soon update this demo to add more examples, including:\n",
    "- how to properly leverage secrets within AI functions to call external systems having Authentication\n",
    "- generating images and calling ML model endpoints\n",
    "- Use Genie as an agent to query any table!\n",
    "- More to come!\n",
    "\n",
    "Stay tuned!"
   ]
  }
 ],
 "metadata": {
  "application/vnd.databricks.v1+notebook": {
   "computePreferences": {
    "hardware": {
     "accelerator": null,
     "gpuPoolId": null,
     "memory": null
    }
   },
   "dashboards": [],
   "environmentMetadata": {
    "environment_version": "2"
   },
   "inputWidgetPreferences": null,
   "language": "python",
   "notebookMetadata": {
    "mostRecentlyExecutedCommandWithImplicitDF": {
     "commandId": 7554958407133995,
     "dataframes": [
      "_sqldf"
     ]
    },
    "pythonIndentUnit": 4
   },
   "notebookName": "00-stylist-AI-function-tools-introduction",
   "widgets": {}
  },
  "language_info": {
   "name": "python"
  }
 },
 "nbformat": 4,
 "nbformat_minor": 0
}
